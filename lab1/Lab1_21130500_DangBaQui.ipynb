{
 "cells": [
  {
   "cell_type": "code",
   "execution_count": 2,
   "metadata": {},
   "outputs": [],
   "source": [
    "import numpy as np\n",
    "import math\n",
    "import random"
   ]
  },
  {
   "cell_type": "markdown",
   "metadata": {},
   "source": [
    "# Task 1"
   ]
  },
  {
   "cell_type": "markdown",
   "metadata": {},
   "source": [
    "Task 1.1"
   ]
  },
  {
   "cell_type": "code",
   "execution_count": 4,
   "metadata": {},
   "outputs": [
    {
     "name": "stdout",
     "output_type": "stream",
     "text": [
      "Numbers: [0, 1, 2, 3, 4]\n",
      "Max: 4\n",
      "Min: 0\n",
      "Sort descending: [4, 3, 2, 1, 0]\n"
     ]
    }
   ],
   "source": [
    "n = 5\n",
    "task_1_1 = [random.randint(-10, 10) for i in range(10)]\n",
    "print(f\"Max: {max(task_1_1)}\")\n",
    "print(f\"Min: {min(task_1_1)}\")\n",
    "print(f\"Sortd ascending: {sorted(task_1_1, reverse=False)}\")\n",
    "print(f\"Positive: {len([e for e in task_1_1 if e > 0])}\")\n",
    "print(f\"Positive: {len([e for e in task_1_1 if e < 0])}\")"
   ]
  },
  {
   "cell_type": "markdown",
   "metadata": {},
   "source": [
    "Task 1.2"
   ]
  },
  {
   "cell_type": "code",
   "execution_count": 5,
   "metadata": {},
   "outputs": [],
   "source": [
    "assert sum([math.factorial(i) for i in range(1, 4)]) == 9"
   ]
  },
  {
   "cell_type": "markdown",
   "metadata": {},
   "source": [
    "Task 1.3"
   ]
  },
  {
   "cell_type": "code",
   "execution_count": 11,
   "metadata": {},
   "outputs": [],
   "source": [
    "class Account:\n",
    "    def __init__(self, name, email, country, friends, posts) -> None:\n",
    "        self.name = name\n",
    "        self.email = email\n",
    "        self.country = country\n",
    "        self.friends = friends\n",
    "        self.posts = posts\n",
    "\n",
    "    def getMaxLikePostByFriend(self):\n",
    "        return max(post.likes for frined in self.friends for post in frined.posts)\n",
    "\n",
    "    def __str__(self) -> str:\n",
    "        friends = '\\n'.join([friend.name for friend in self.friends])\n",
    "        posts = '\\n'.join([str(post) for post in self.posts])\n",
    "        return f\"Name: {self.name}, Email: {self.email}, Country: {self.country}, Friends: {friends}, Posts: {posts}\"\n",
    "            \n",
    "\n",
    "class VerifiedAccount(Account):\n",
    "    def __init__(self, name, email, country, friends, posts, fromDate) -> None:\n",
    "        super().__init__(name, email, country, friends, posts)\n",
    "        self.fromDate = fromDate\n",
    "\n",
    "\n",
    "class NormalProduct(Account):\n",
    "    pass\n",
    "\n",
    "\n",
    "class Post:\n",
    "    def __init__(self, content, subject, likes) -> None:\n",
    "        self.content = content\n",
    "        self.subject = subject\n",
    "        self.likes = likes\n",
    "\n",
    "    def __str__(self) -> str:\n",
    "        return f\"content: {self.content}, subject: {self.subject}, likes: {self.likes}\"\n",
    "            \n",
    "\n",
    "\n",
    "class AccountManager:\n",
    "    def __init__(self, accounts) -> None:\n",
    "        self.accounts = accounts\n",
    "\n",
    "    def groupAccountsByPostLike(self):\n",
    "        return {\n",
    "            True: [str(acc) for acc in self.accounts if len(acc.posts) > 10],\n",
    "            False: [str(acc) for acc in self.accounts if len(acc.posts) < 10]\n",
    "        }\n",
    "\n",
    "    def filterAccounts(self, country):\n",
    "        accs = [acc for acc in self.accounts if acc.country == country]\n",
    "        return sorted(accs, key=lambda acc: ((-len(acc.posts), acc.name)))\n",
    "    \n",
    "    def __str__(self) -> str:\n",
    "       accounts = '\\n'.join([str(acc) for acc in self.accounts])\n",
    "       return f\"Accounts: {accounts}\""
   ]
  },
  {
   "cell_type": "code",
   "execution_count": null,
   "metadata": {},
   "outputs": [],
   "source": [
    "from random import randint, random, seed\n",
    "from datetime import datetime\n",
    "\n",
    "seed(999) # Special seed, make the result consitent for every time we run.\n",
    "\n",
    "def generate_fake_data(numAccounts, rangePosts, rangeLikes, rangeFriends):\n",
    "    accounts = []\n",
    "    firstNames = [\"Alice\", \"Benjamin\", \"Catherine\", \"Dylan\", \"Eva\", \"Felix\", \"Grace\", \"Harrison\", \"Isabel\", \"Jacob\"]\n",
    "    lastNames = [\"Anderson\", \"Baxter\", \"Cruz\", \"Dixon\", \"Ellis\", \"Fleming\", \"Garcia\", \"Hawkins\", \"Ingram\", \"Johnson\"]\n",
    "    countries = [\"Australia\", \"Brazil\", \"Canada\", \"Denmark\", \"Egypt\", \"France\", \"Germany\", \"India\", \"Japan\", \"Kenya\"]\n",
    "    probVerified = 0.2\n",
    "    # Create random account profile\n",
    "    for i in range(numAccounts):\n",
    "        firstName = firstNames[randint(0, len(firstNames) - 1)]\n",
    "        lastName = lastNames[randint(0, len(lastNames) - 1)]\n",
    "        name = firstName + \" \" + lastName\n",
    "        email = firstName.lower() + \"_\" + lastName.lower() +\"@gmail.com\"\n",
    "        country = countries[randint(0, len(countries) - 1)]\n",
    "        numPost = randint(rangePosts[0], rangePosts[1])\n",
    "        posts = []\n",
    "        # Create random posts\n",
    "        for j in range(numPost):\n",
    "            likes = randint(rangeLikes[0], rangeLikes[1])\n",
    "            posts.append(Post(content=\"Temp content\", subject=\"Temp subject\", likes=likes))\n",
    "        #Make account becomes Verified (20%) or just Normal (80%)    \n",
    "        if(random() < 0.2):\n",
    "            fromDate = datetime(randint(2018, 2024), randint(1, 12), randint(1, 28))\n",
    "            accounts.append(VerifiedAccount(name=name, email=email, country=country, friends=[], posts=posts, fromDate=fromDate))\n",
    "        else:\n",
    "            accounts.append(NormalProduct(name=name, email=email, country=country, friends=[], posts=posts))\n",
    "        \n",
    "\n",
    "    # Make all accounts in the list have friends\n",
    "    for accountIndex in range(len(accounts)):\n",
    "        account = accounts[accountIndex]\n",
    "        numFriends = randint(rangeFriends[0], rangeFriends[1])\n",
    "        currentFriends = 0\n",
    "        while currentFriends < numFriends:\n",
    "            otherAccountIndex = randint(0, len(accounts) - 1)\n",
    "            if(otherAccountIndex != i):\n",
    "                currentFriends += 1\n",
    "                account.friends.append(accounts[otherAccountIndex])\n",
    "\n",
    "    return AccountManager(accounts=accounts)\n",
    "account_manager = generate_fake_data(numAccounts=20, rangePosts=[1, 20], rangeLikes=[0, 100], rangeFriends=[1,5])\n",
    "print(f\"Max Like Post By Friend: {account_manager.accounts[0].getMaxLikePostByFriend()}\")\n",
    "\n",
    "method_1 = '\\n'.join([str(acc) for acc in account_manager.filterAccounts('Canada')])\n",
    "\n",
    "print(f\"\\nFilter Accounts:\\n {method_1}\\n\")\n",
    "print(\"Group Accounts By Post Like:\", end=\"\")\n",
    "account_manager.groupAccountsByPostLike()"
   ]
  },
  {
   "cell_type": "markdown",
   "metadata": {},
   "source": [
    "# Task 2"
   ]
  },
  {
   "cell_type": "markdown",
   "metadata": {},
   "source": [
    "Task 2.1"
   ]
  },
  {
   "cell_type": "code",
   "execution_count": 7,
   "metadata": {},
   "outputs": [
    {
     "data": {
      "text/plain": [
       "array([25, 24, 23, 22, 21, 20, 19, 18, 17, 16, 15, 14, 13, 12, 11, 10])"
      ]
     },
     "execution_count": 7,
     "metadata": {},
     "output_type": "execute_result"
    }
   ],
   "source": [
    "np.arange(10, 26)[::-1]"
   ]
  },
  {
   "cell_type": "markdown",
   "metadata": {},
   "source": [
    "Task 2.2"
   ]
  },
  {
   "cell_type": "code",
   "execution_count": 8,
   "metadata": {},
   "outputs": [
    {
     "name": "stdout",
     "output_type": "stream",
     "text": [
      "Origin array: [1 2 3 4]\n",
      "Repeating 2 times: [1 2 3 4 1 2 3 4]\n",
      "Repeating 3 times: [1 2 3 4 1 2 3 4 1 2 3 4]\n"
     ]
    },
    {
     "data": {
      "text/plain": [
       "[None, None]"
      ]
     },
     "execution_count": 8,
     "metadata": {},
     "output_type": "execute_result"
    }
   ],
   "source": [
    "x = np.arange(1, 5)\n",
    "print(f\"Origin array: {x}\")\n",
    "[print(f\"Repeating {i} times: {np.tile(x, i)}\") for i in range (2, 4)]"
   ]
  },
  {
   "cell_type": "markdown",
   "metadata": {},
   "source": [
    "Task 2.3"
   ]
  },
  {
   "cell_type": "code",
   "execution_count": 9,
   "metadata": {},
   "outputs": [
    {
     "name": "stdout",
     "output_type": "stream",
     "text": [
      "Original array:\n",
      "[[0.   0.52 0.94 0.19]\n",
      " [0.81 0.43 0.9  0.96]\n",
      " [0.43 0.16 0.68 0.05]]\n",
      "Replaced:\n",
      "[[0.   0.5  0.5  0.19]\n",
      " [0.5  0.43 0.5  0.5 ]\n",
      " [0.43 0.16 0.5  0.05]]\n"
     ]
    }
   ],
   "source": [
    "origin_array = np.round(np.random.rand(3,4), 2)\n",
    "print(f\"Original array:\\n{origin_array}\")\n",
    "print(f\"Replaced:\\n{np.where(origin_array > 0.5, 0.5, origin_array)}\")"
   ]
  }
 ],
 "metadata": {
  "kernelspec": {
   "display_name": "Python 3",
   "language": "python",
   "name": "python3"
  },
  "language_info": {
   "codemirror_mode": {
    "name": "ipython",
    "version": 3
   },
   "file_extension": ".py",
   "mimetype": "text/x-python",
   "name": "python",
   "nbconvert_exporter": "python",
   "pygments_lexer": "ipython3",
   "version": "3.11.8"
  }
 },
 "nbformat": 4,
 "nbformat_minor": 2
}
