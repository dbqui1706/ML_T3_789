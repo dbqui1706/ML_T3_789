{
 "cells": [
  {
   "cell_type": "code",
   "execution_count": 19,
   "metadata": {},
   "outputs": [],
   "source": [
    "import numpy as np\n",
    "import math"
   ]
  },
  {
   "cell_type": "markdown",
   "metadata": {},
   "source": [
    "# Task 1"
   ]
  },
  {
   "cell_type": "markdown",
   "metadata": {},
   "source": [
    "Task 1.1"
   ]
  },
  {
   "cell_type": "code",
   "execution_count": 4,
   "metadata": {},
   "outputs": [
    {
     "name": "stdout",
     "output_type": "stream",
     "text": [
      "Numbers: [0, 1, 2, 3, 4]\n",
      "Max: 4\n",
      "Min: 0\n",
      "Max: [4, 3, 2, 1, 0]\n"
     ]
    }
   ],
   "source": [
    "n = 5\n",
    "numbers = [i for i in range(n)]\n",
    "print(f\"Numbers: {numbers}\")\n",
    "print(f\"Max: {max(numbers)}\")\n",
    "print(f\"Min: {min(numbers)}\")\n",
    "print(f\"Max: {sorted(numbers, reverse=True)}\")"
   ]
  },
  {
   "cell_type": "markdown",
   "metadata": {},
   "source": [
    "Task 1.2"
   ]
  },
  {
   "cell_type": "code",
   "execution_count": 15,
   "metadata": {},
   "outputs": [
    {
     "data": {
      "text/plain": [
       "9"
      ]
     },
     "execution_count": 15,
     "metadata": {},
     "output_type": "execute_result"
    }
   ],
   "source": [
    "def task_1_2(n):\n",
    "    return sum(math.factorial(i) for i in range(1, n+1))\n",
    "task_1_2(3)"
   ]
  },
  {
   "cell_type": "markdown",
   "metadata": {},
   "source": [
    "Task 1.3"
   ]
  },
  {
   "cell_type": "code",
   "execution_count": 18,
   "metadata": {},
   "outputs": [],
   "source": [
    "class Account:\n",
    "    def __init__(self, name, email, country, friends, posts) -> None:\n",
    "        self.name = name\n",
    "        self.email = email\n",
    "        self.country = country\n",
    "        self.friends = friends\n",
    "        self.posts = posts\n",
    "\n",
    "    def getMaxLikePostByFriend(self):\n",
    "        return max(self.posts.likes)\n",
    "    \n",
    "class NormalProduct(Account):\n",
    "    pass\n",
    "\n",
    "class VerifiedAccount(Account):\n",
    "    def __init__(self, name, email, country, friends, posts, from_date) -> None:\n",
    "        super().__init__(name, email, country, friends, posts)\n",
    "        self.from_date = from_date\n",
    "\n",
    "class Post:\n",
    "    def __init__(self, content, subject, likes) -> None:\n",
    "        self.content = content\n",
    "        self.subject = subject\n",
    "        self.likes = likes\n",
    "\n",
    "\n",
    "class AccountManager:\n",
    "    def __init__(self, accounts) -> None:\n",
    "        self.accounts = accounts\n",
    "\n",
    "    def groupAccountByPostLike(self) -> dict:\n",
    "        result = {\n",
    "            True: [],\n",
    "            False: []\n",
    "        }\n",
    "        for acc in self.accounts:\n",
    "            if len(acc.posts) < 10:\n",
    "                result[False].append(acc)\n",
    "            else:\n",
    "                result[True].append(acc)\n",
    "        return result\n",
    "    \n",
    "    def filterAccounts(self, country):\n",
    "        result = filter(lambda x: x.country == country, self.accounts)\n",
    "        return sorted(result, key=lambda acc: (acc.name, len(acc.post)), reverse=False)"
   ]
  },
  {
   "cell_type": "markdown",
   "metadata": {},
   "source": [
    "# Task 2"
   ]
  },
  {
   "cell_type": "markdown",
   "metadata": {},
   "source": [
    "Task 2.1"
   ]
  },
  {
   "cell_type": "code",
   "execution_count": 70,
   "metadata": {},
   "outputs": [
    {
     "data": {
      "text/plain": [
       "array([25, 24, 23, 22, 21, 20, 19, 18, 17, 16, 15, 14, 13, 12, 11, 10])"
      ]
     },
     "execution_count": 70,
     "metadata": {},
     "output_type": "execute_result"
    }
   ],
   "source": [
    "np.arange(10, 26)[::-1]"
   ]
  },
  {
   "cell_type": "markdown",
   "metadata": {},
   "source": [
    "Task 2.2"
   ]
  },
  {
   "cell_type": "code",
   "execution_count": 35,
   "metadata": {},
   "outputs": [
    {
     "name": "stdout",
     "output_type": "stream",
     "text": [
      "Origin array: [1 2 3 4]\n",
      "Repeating 2 times: [1 2 3 4 1 2 3 4]\n",
      "Repeating 3 times: [1 2 3 4 1 2 3 4 1 2 3 4]\n"
     ]
    },
    {
     "data": {
      "text/plain": [
       "[None, None]"
      ]
     },
     "execution_count": 35,
     "metadata": {},
     "output_type": "execute_result"
    }
   ],
   "source": [
    "x = np.arange(1, 5)\n",
    "print(f\"Origin array: {x}\")\n",
    "[print(f\"Repeating {i} times: {np.tile(x, i)}\") for i in range (2, 4)]"
   ]
  },
  {
   "cell_type": "markdown",
   "metadata": {},
   "source": [
    "Task 2.3"
   ]
  },
  {
   "cell_type": "code",
   "execution_count": 51,
   "metadata": {},
   "outputs": [
    {
     "name": "stdout",
     "output_type": "stream",
     "text": [
      "Original array:\n",
      "[[0.98 0.64 0.63 0.03]\n",
      " [0.18 0.5  0.31 0.99]\n",
      " [0.93 0.53 0.54 0.6 ]]\n",
      "Replaced:\n",
      "[[0.5  0.5  0.5  0.03]\n",
      " [0.18 0.5  0.31 0.5 ]\n",
      " [0.5  0.5  0.5  0.5 ]]\n"
     ]
    }
   ],
   "source": [
    "origin_array = np.round(np.random.rand(3,4), 2)\n",
    "print(f\"Original array:\\n{origin_array}\")\n",
    "print(f\"Replaced:\\n{np.where(origin_array > 0.5, 0.5, origin_array)}\")"
   ]
  }
 ],
 "metadata": {
  "kernelspec": {
   "display_name": "Python 3",
   "language": "python",
   "name": "python3"
  },
  "language_info": {
   "codemirror_mode": {
    "name": "ipython",
    "version": 3
   },
   "file_extension": ".py",
   "mimetype": "text/x-python",
   "name": "python",
   "nbconvert_exporter": "python",
   "pygments_lexer": "ipython3",
   "version": "3.11.8"
  }
 },
 "nbformat": 4,
 "nbformat_minor": 2
}
