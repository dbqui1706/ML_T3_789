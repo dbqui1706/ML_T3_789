{
 "cells": [
  {
   "cell_type": "code",
   "execution_count": 1,
   "metadata": {},
   "outputs": [],
   "source": [
    "import numpy as np\n",
    "import math\n",
    "import random"
   ]
  },
  {
   "cell_type": "markdown",
   "metadata": {},
   "source": [
    "# Task 1"
   ]
  },
  {
   "cell_type": "markdown",
   "metadata": {},
   "source": [
    "Task 1.1"
   ]
  },
  {
   "cell_type": "code",
   "execution_count": 2,
   "metadata": {},
   "outputs": [
    {
     "name": "stdout",
     "output_type": "stream",
     "text": [
      "Max: 4\n",
      "Min: -10\n",
      "Sortd ascending: [-10, -9, -8, -1, -1, 0, 1, 4, 4, 4]\n",
      "Positive: 4\n",
      "Positive: 5\n"
     ]
    }
   ],
   "source": [
    "n = 5\n",
    "task_1_1 = [random.randint(-10, 10) for i in range(10)]\n",
    "print(f\"Max: {max(task_1_1)}\")\n",
    "print(f\"Min: {min(task_1_1)}\")\n",
    "print(f\"Sortd ascending: {sorted(task_1_1, reverse=False)}\")\n",
    "print(f\"Positive: {len([e for e in task_1_1 if e > 0])}\")\n",
    "print(f\"Positive: {len([e for e in task_1_1 if e < 0])}\")"
   ]
  },
  {
   "cell_type": "markdown",
   "metadata": {},
   "source": [
    "Task 1.2"
   ]
  },
  {
   "cell_type": "code",
   "execution_count": 3,
   "metadata": {},
   "outputs": [],
   "source": [
    "assert sum([math.factorial(i) for i in range(1, 4)]) == 9"
   ]
  },
  {
   "cell_type": "markdown",
   "metadata": {},
   "source": [
    "Task 1.3"
   ]
  },
  {
   "cell_type": "code",
   "execution_count": 4,
   "metadata": {},
   "outputs": [],
   "source": [
    "class Account:\n",
    "    def __init__(self, name, email, country, friends, posts) -> None:\n",
    "        self.name = name\n",
    "        self.email = email\n",
    "        self.country = country\n",
    "        self.friends = friends\n",
    "        self.posts = posts\n",
    "\n",
    "    def getMaxLikePostByFriend(self):\n",
    "        return max(post.likes for frined in self.friends for post in frined.posts)\n",
    "\n",
    "    def __str__(self) -> str:\n",
    "        friends = '\\n'.join([friend.name for friend in self.friends])\n",
    "        posts = '\\n'.join([str(post) for post in self.posts])\n",
    "        return f\"Name: {self.name}, Email: {self.email}, Country: {self.country}, Friends: {friends}, Posts: {posts}\"\n",
    "            \n",
    "\n",
    "class VerifiedAccount(Account):\n",
    "    def __init__(self, name, email, country, friends, posts, fromDate) -> None:\n",
    "        super().__init__(name, email, country, friends, posts)\n",
    "        self.fromDate = fromDate\n",
    "\n",
    "\n",
    "class NormalProduct(Account):\n",
    "    pass\n",
    "\n",
    "\n",
    "class Post:\n",
    "    def __init__(self, content, subject, likes) -> None:\n",
    "        self.content = content\n",
    "        self.subject = subject\n",
    "        self.likes = likes\n",
    "\n",
    "    def __str__(self) -> str:\n",
    "        return f\"content: {self.content}, subject: {self.subject}, likes: {self.likes}\"\n",
    "            \n",
    "\n",
    "\n",
    "class AccountManager:\n",
    "    def __init__(self, accounts) -> None:\n",
    "        self.accounts = accounts\n",
    "\n",
    "    def groupAccountsByPostLike(self):\n",
    "        return {\n",
    "            True: [str(acc) for acc in self.accounts if len(acc.posts) > 10],\n",
    "            False: [str(acc) for acc in self.accounts if len(acc.posts) < 10]\n",
    "        }\n",
    "\n",
    "    def filterAccounts(self, country):\n",
    "        accs = [acc for acc in self.accounts if acc.country == country]\n",
    "        return sorted(accs, key=lambda acc: ((-len(acc.posts), acc.name)))\n",
    "    \n",
    "    def __str__(self) -> str:\n",
    "       accounts = '\\n'.join([str(acc) for acc in self.accounts])\n",
    "       return f\"Accounts: {accounts}\""
   ]
  },
  {
   "cell_type": "code",
   "execution_count": 5,
   "metadata": {},
   "outputs": [
    {
     "name": "stdout",
     "output_type": "stream",
     "text": [
      "Max Like Post By Friend: 99\n",
      "\n",
      "Filter Accounts:\n",
      " Name: Isabel Ellis, Email: isabel_ellis@gmail.com, Country: Canada, Friends: Isabel Fleming\n",
      "Eva Ingram, Posts: content: Temp content, subject: Temp subject, likes: 0\n",
      "content: Temp content, subject: Temp subject, likes: 49\n",
      "content: Temp content, subject: Temp subject, likes: 79\n",
      "content: Temp content, subject: Temp subject, likes: 95\n",
      "content: Temp content, subject: Temp subject, likes: 27\n",
      "content: Temp content, subject: Temp subject, likes: 17\n",
      "content: Temp content, subject: Temp subject, likes: 35\n",
      "content: Temp content, subject: Temp subject, likes: 60\n",
      "content: Temp content, subject: Temp subject, likes: 74\n",
      "content: Temp content, subject: Temp subject, likes: 97\n",
      "content: Temp content, subject: Temp subject, likes: 79\n",
      "\n",
      "Group Accounts By Post Like:"
     ]
    },
    {
     "data": {
      "text/plain": [
       "{True: ['Name: Benjamin Johnson, Email: benjamin_johnson@gmail.com, Country: Kenya, Friends: Benjamin Ingram\\nBenjamin Garcia\\nGrace Cruz, Posts: content: Temp content, subject: Temp subject, likes: 62\\ncontent: Temp content, subject: Temp subject, likes: 61\\ncontent: Temp content, subject: Temp subject, likes: 16\\ncontent: Temp content, subject: Temp subject, likes: 82\\ncontent: Temp content, subject: Temp subject, likes: 40\\ncontent: Temp content, subject: Temp subject, likes: 82\\ncontent: Temp content, subject: Temp subject, likes: 82\\ncontent: Temp content, subject: Temp subject, likes: 12\\ncontent: Temp content, subject: Temp subject, likes: 82\\ncontent: Temp content, subject: Temp subject, likes: 24\\ncontent: Temp content, subject: Temp subject, likes: 19\\ncontent: Temp content, subject: Temp subject, likes: 33\\ncontent: Temp content, subject: Temp subject, likes: 73\\ncontent: Temp content, subject: Temp subject, likes: 6\\ncontent: Temp content, subject: Temp subject, likes: 89\\ncontent: Temp content, subject: Temp subject, likes: 99\\ncontent: Temp content, subject: Temp subject, likes: 32\\ncontent: Temp content, subject: Temp subject, likes: 50',\n",
       "  'Name: Benjamin Ingram, Email: benjamin_ingram@gmail.com, Country: Kenya, Friends: Harrison Anderson\\nGrace Johnson\\nBenjamin Johnson, Posts: content: Temp content, subject: Temp subject, likes: 89\\ncontent: Temp content, subject: Temp subject, likes: 95\\ncontent: Temp content, subject: Temp subject, likes: 47\\ncontent: Temp content, subject: Temp subject, likes: 16\\ncontent: Temp content, subject: Temp subject, likes: 84\\ncontent: Temp content, subject: Temp subject, likes: 83\\ncontent: Temp content, subject: Temp subject, likes: 63\\ncontent: Temp content, subject: Temp subject, likes: 59\\ncontent: Temp content, subject: Temp subject, likes: 1\\ncontent: Temp content, subject: Temp subject, likes: 95\\ncontent: Temp content, subject: Temp subject, likes: 7\\ncontent: Temp content, subject: Temp subject, likes: 31\\ncontent: Temp content, subject: Temp subject, likes: 14\\ncontent: Temp content, subject: Temp subject, likes: 92\\ncontent: Temp content, subject: Temp subject, likes: 83',\n",
       "  'Name: Benjamin Garcia, Email: benjamin_garcia@gmail.com, Country: Kenya, Friends: Dylan Garcia, Posts: content: Temp content, subject: Temp subject, likes: 21\\ncontent: Temp content, subject: Temp subject, likes: 26\\ncontent: Temp content, subject: Temp subject, likes: 29\\ncontent: Temp content, subject: Temp subject, likes: 13\\ncontent: Temp content, subject: Temp subject, likes: 7\\ncontent: Temp content, subject: Temp subject, likes: 26\\ncontent: Temp content, subject: Temp subject, likes: 2\\ncontent: Temp content, subject: Temp subject, likes: 66\\ncontent: Temp content, subject: Temp subject, likes: 80\\ncontent: Temp content, subject: Temp subject, likes: 36\\ncontent: Temp content, subject: Temp subject, likes: 18\\ncontent: Temp content, subject: Temp subject, likes: 31\\ncontent: Temp content, subject: Temp subject, likes: 60\\ncontent: Temp content, subject: Temp subject, likes: 75\\ncontent: Temp content, subject: Temp subject, likes: 43\\ncontent: Temp content, subject: Temp subject, likes: 59\\ncontent: Temp content, subject: Temp subject, likes: 12\\ncontent: Temp content, subject: Temp subject, likes: 4',\n",
       "  'Name: Harrison Anderson, Email: harrison_anderson@gmail.com, Country: Kenya, Friends: Isabel Fleming\\nGrace Cruz\\nEva Ingram, Posts: content: Temp content, subject: Temp subject, likes: 5\\ncontent: Temp content, subject: Temp subject, likes: 6\\ncontent: Temp content, subject: Temp subject, likes: 58\\ncontent: Temp content, subject: Temp subject, likes: 100\\ncontent: Temp content, subject: Temp subject, likes: 12\\ncontent: Temp content, subject: Temp subject, likes: 83\\ncontent: Temp content, subject: Temp subject, likes: 13\\ncontent: Temp content, subject: Temp subject, likes: 32\\ncontent: Temp content, subject: Temp subject, likes: 10\\ncontent: Temp content, subject: Temp subject, likes: 12\\ncontent: Temp content, subject: Temp subject, likes: 71\\ncontent: Temp content, subject: Temp subject, likes: 62\\ncontent: Temp content, subject: Temp subject, likes: 40\\ncontent: Temp content, subject: Temp subject, likes: 18\\ncontent: Temp content, subject: Temp subject, likes: 55',\n",
       "  'Name: Grace Cruz, Email: grace_cruz@gmail.com, Country: India, Friends: Isabel Ellis\\nGrace Cruz\\nCatherine Dixon, Posts: content: Temp content, subject: Temp subject, likes: 5\\ncontent: Temp content, subject: Temp subject, likes: 64\\ncontent: Temp content, subject: Temp subject, likes: 38\\ncontent: Temp content, subject: Temp subject, likes: 78\\ncontent: Temp content, subject: Temp subject, likes: 67\\ncontent: Temp content, subject: Temp subject, likes: 13\\ncontent: Temp content, subject: Temp subject, likes: 98\\ncontent: Temp content, subject: Temp subject, likes: 39\\ncontent: Temp content, subject: Temp subject, likes: 57\\ncontent: Temp content, subject: Temp subject, likes: 6\\ncontent: Temp content, subject: Temp subject, likes: 17\\ncontent: Temp content, subject: Temp subject, likes: 62\\ncontent: Temp content, subject: Temp subject, likes: 74\\ncontent: Temp content, subject: Temp subject, likes: 35\\ncontent: Temp content, subject: Temp subject, likes: 99\\ncontent: Temp content, subject: Temp subject, likes: 77\\ncontent: Temp content, subject: Temp subject, likes: 98\\ncontent: Temp content, subject: Temp subject, likes: 28',\n",
       "  'Name: Alice Ingram, Email: alice_ingram@gmail.com, Country: France, Friends: Eva Ingram\\nGrace Johnson\\nBenjamin Garcia, Posts: content: Temp content, subject: Temp subject, likes: 5\\ncontent: Temp content, subject: Temp subject, likes: 94\\ncontent: Temp content, subject: Temp subject, likes: 44\\ncontent: Temp content, subject: Temp subject, likes: 35\\ncontent: Temp content, subject: Temp subject, likes: 34\\ncontent: Temp content, subject: Temp subject, likes: 51\\ncontent: Temp content, subject: Temp subject, likes: 72\\ncontent: Temp content, subject: Temp subject, likes: 92\\ncontent: Temp content, subject: Temp subject, likes: 13\\ncontent: Temp content, subject: Temp subject, likes: 43\\ncontent: Temp content, subject: Temp subject, likes: 52\\ncontent: Temp content, subject: Temp subject, likes: 5\\ncontent: Temp content, subject: Temp subject, likes: 99\\ncontent: Temp content, subject: Temp subject, likes: 48\\ncontent: Temp content, subject: Temp subject, likes: 50\\ncontent: Temp content, subject: Temp subject, likes: 34',\n",
       "  'Name: Isabel Ellis, Email: isabel_ellis@gmail.com, Country: Canada, Friends: Isabel Fleming\\nEva Ingram, Posts: content: Temp content, subject: Temp subject, likes: 0\\ncontent: Temp content, subject: Temp subject, likes: 49\\ncontent: Temp content, subject: Temp subject, likes: 79\\ncontent: Temp content, subject: Temp subject, likes: 95\\ncontent: Temp content, subject: Temp subject, likes: 27\\ncontent: Temp content, subject: Temp subject, likes: 17\\ncontent: Temp content, subject: Temp subject, likes: 35\\ncontent: Temp content, subject: Temp subject, likes: 60\\ncontent: Temp content, subject: Temp subject, likes: 74\\ncontent: Temp content, subject: Temp subject, likes: 97\\ncontent: Temp content, subject: Temp subject, likes: 79',\n",
       "  'Name: Grace Cruz, Email: grace_cruz@gmail.com, Country: Australia, Friends: Catherine Dixon\\nGrace Cruz\\nBenjamin Ingram\\nCatherine Dixon, Posts: content: Temp content, subject: Temp subject, likes: 86\\ncontent: Temp content, subject: Temp subject, likes: 96\\ncontent: Temp content, subject: Temp subject, likes: 54\\ncontent: Temp content, subject: Temp subject, likes: 20\\ncontent: Temp content, subject: Temp subject, likes: 6\\ncontent: Temp content, subject: Temp subject, likes: 50\\ncontent: Temp content, subject: Temp subject, likes: 74\\ncontent: Temp content, subject: Temp subject, likes: 35\\ncontent: Temp content, subject: Temp subject, likes: 55\\ncontent: Temp content, subject: Temp subject, likes: 79\\ncontent: Temp content, subject: Temp subject, likes: 15\\ncontent: Temp content, subject: Temp subject, likes: 9\\ncontent: Temp content, subject: Temp subject, likes: 89\\ncontent: Temp content, subject: Temp subject, likes: 18',\n",
       "  'Name: Eva Ingram, Email: eva_ingram@gmail.com, Country: France, Friends: Jacob Hawkins\\nGrace Cruz\\nHarrison Anderson, Posts: content: Temp content, subject: Temp subject, likes: 63\\ncontent: Temp content, subject: Temp subject, likes: 10\\ncontent: Temp content, subject: Temp subject, likes: 30\\ncontent: Temp content, subject: Temp subject, likes: 97\\ncontent: Temp content, subject: Temp subject, likes: 28\\ncontent: Temp content, subject: Temp subject, likes: 32\\ncontent: Temp content, subject: Temp subject, likes: 49\\ncontent: Temp content, subject: Temp subject, likes: 64\\ncontent: Temp content, subject: Temp subject, likes: 37\\ncontent: Temp content, subject: Temp subject, likes: 91\\ncontent: Temp content, subject: Temp subject, likes: 59\\ncontent: Temp content, subject: Temp subject, likes: 61\\ncontent: Temp content, subject: Temp subject, likes: 17\\ncontent: Temp content, subject: Temp subject, likes: 84',\n",
       "  'Name: Alice Baxter, Email: alice_baxter@gmail.com, Country: Egypt, Friends: Alice Ingram\\nHarrison Anderson\\nBenjamin Ingram, Posts: content: Temp content, subject: Temp subject, likes: 87\\ncontent: Temp content, subject: Temp subject, likes: 66\\ncontent: Temp content, subject: Temp subject, likes: 2\\ncontent: Temp content, subject: Temp subject, likes: 66\\ncontent: Temp content, subject: Temp subject, likes: 71\\ncontent: Temp content, subject: Temp subject, likes: 21\\ncontent: Temp content, subject: Temp subject, likes: 63\\ncontent: Temp content, subject: Temp subject, likes: 9\\ncontent: Temp content, subject: Temp subject, likes: 39\\ncontent: Temp content, subject: Temp subject, likes: 66\\ncontent: Temp content, subject: Temp subject, likes: 79\\ncontent: Temp content, subject: Temp subject, likes: 98\\ncontent: Temp content, subject: Temp subject, likes: 90\\ncontent: Temp content, subject: Temp subject, likes: 13'],\n",
       " False: ['Name: Dylan Garcia, Email: dylan_garcia@gmail.com, Country: Brazil, Friends: Benjamin Garcia\\nAlice Baxter\\nBenjamin Garcia, Posts: content: Temp content, subject: Temp subject, likes: 3\\ncontent: Temp content, subject: Temp subject, likes: 25\\ncontent: Temp content, subject: Temp subject, likes: 82\\ncontent: Temp content, subject: Temp subject, likes: 64\\ncontent: Temp content, subject: Temp subject, likes: 26\\ncontent: Temp content, subject: Temp subject, likes: 23\\ncontent: Temp content, subject: Temp subject, likes: 86\\ncontent: Temp content, subject: Temp subject, likes: 42\\ncontent: Temp content, subject: Temp subject, likes: 21',\n",
       "  'Name: Eva Ingram, Email: eva_ingram@gmail.com, Country: France, Friends: Harrison Anderson\\nBenjamin Ingram\\nIsabel Garcia\\nGrace Cruz, Posts: content: Temp content, subject: Temp subject, likes: 98\\ncontent: Temp content, subject: Temp subject, likes: 21',\n",
       "  'Name: Benjamin Garcia, Email: benjamin_garcia@gmail.com, Country: Kenya, Friends: Benjamin Johnson\\nHarrison Anderson, Posts: content: Temp content, subject: Temp subject, likes: 89\\ncontent: Temp content, subject: Temp subject, likes: 7\\ncontent: Temp content, subject: Temp subject, likes: 35\\ncontent: Temp content, subject: Temp subject, likes: 48',\n",
       "  'Name: Jacob Hawkins, Email: jacob_hawkins@gmail.com, Country: Japan, Friends: Felix Cruz\\nCatherine Dixon\\nBenjamin Johnson\\nAlice Baxter\\nJacob Hawkins, Posts: content: Temp content, subject: Temp subject, likes: 49',\n",
       "  'Name: Isabel Fleming, Email: isabel_fleming@gmail.com, Country: Kenya, Friends: Grace Cruz\\nFelix Cruz\\nIsabel Fleming, Posts: content: Temp content, subject: Temp subject, likes: 44\\ncontent: Temp content, subject: Temp subject, likes: 6\\ncontent: Temp content, subject: Temp subject, likes: 27\\ncontent: Temp content, subject: Temp subject, likes: 57\\ncontent: Temp content, subject: Temp subject, likes: 36',\n",
       "  'Name: Felix Cruz, Email: felix_cruz@gmail.com, Country: Australia, Friends: Isabel Garcia\\nEva Ingram\\nBenjamin Ingram, Posts: content: Temp content, subject: Temp subject, likes: 86\\ncontent: Temp content, subject: Temp subject, likes: 86\\ncontent: Temp content, subject: Temp subject, likes: 3\\ncontent: Temp content, subject: Temp subject, likes: 98\\ncontent: Temp content, subject: Temp subject, likes: 93\\ncontent: Temp content, subject: Temp subject, likes: 76\\ncontent: Temp content, subject: Temp subject, likes: 70\\ncontent: Temp content, subject: Temp subject, likes: 73',\n",
       "  'Name: Isabel Garcia, Email: isabel_garcia@gmail.com, Country: France, Friends: Isabel Ellis\\nCatherine Dixon\\nBenjamin Garcia, Posts: content: Temp content, subject: Temp subject, likes: 99\\ncontent: Temp content, subject: Temp subject, likes: 92\\ncontent: Temp content, subject: Temp subject, likes: 73\\ncontent: Temp content, subject: Temp subject, likes: 43\\ncontent: Temp content, subject: Temp subject, likes: 28\\ncontent: Temp content, subject: Temp subject, likes: 97',\n",
       "  'Name: Grace Johnson, Email: grace_johnson@gmail.com, Country: Japan, Friends: Eva Ingram\\nIsabel Fleming\\nAlice Baxter\\nGrace Johnson\\nGrace Johnson, Posts: content: Temp content, subject: Temp subject, likes: 7\\ncontent: Temp content, subject: Temp subject, likes: 26\\ncontent: Temp content, subject: Temp subject, likes: 94\\ncontent: Temp content, subject: Temp subject, likes: 15\\ncontent: Temp content, subject: Temp subject, likes: 89\\ncontent: Temp content, subject: Temp subject, likes: 95\\ncontent: Temp content, subject: Temp subject, likes: 6\\ncontent: Temp content, subject: Temp subject, likes: 46\\ncontent: Temp content, subject: Temp subject, likes: 56',\n",
       "  'Name: Catherine Dixon, Email: catherine_dixon@gmail.com, Country: Japan, Friends: Catherine Dixon\\nEva Ingram, Posts: content: Temp content, subject: Temp subject, likes: 83']}"
      ]
     },
     "execution_count": 5,
     "metadata": {},
     "output_type": "execute_result"
    }
   ],
   "source": [
    "from random import randint, random, seed\n",
    "from datetime import datetime\n",
    "\n",
    "seed(999) # Special seed, make the result consitent for every time we run.\n",
    "\n",
    "def generate_fake_data(numAccounts, rangePosts, rangeLikes, rangeFriends):\n",
    "    accounts = []\n",
    "    firstNames = [\"Alice\", \"Benjamin\", \"Catherine\", \"Dylan\", \"Eva\", \"Felix\", \"Grace\", \"Harrison\", \"Isabel\", \"Jacob\"]\n",
    "    lastNames = [\"Anderson\", \"Baxter\", \"Cruz\", \"Dixon\", \"Ellis\", \"Fleming\", \"Garcia\", \"Hawkins\", \"Ingram\", \"Johnson\"]\n",
    "    countries = [\"Australia\", \"Brazil\", \"Canada\", \"Denmark\", \"Egypt\", \"France\", \"Germany\", \"India\", \"Japan\", \"Kenya\"]\n",
    "    probVerified = 0.2\n",
    "    # Create random account profile\n",
    "    for i in range(numAccounts):\n",
    "        firstName = firstNames[randint(0, len(firstNames) - 1)]\n",
    "        lastName = lastNames[randint(0, len(lastNames) - 1)]\n",
    "        name = firstName + \" \" + lastName\n",
    "        email = firstName.lower() + \"_\" + lastName.lower() +\"@gmail.com\"\n",
    "        country = countries[randint(0, len(countries) - 1)]\n",
    "        numPost = randint(rangePosts[0], rangePosts[1])\n",
    "        posts = []\n",
    "        # Create random posts\n",
    "        for j in range(numPost):\n",
    "            likes = randint(rangeLikes[0], rangeLikes[1])\n",
    "            posts.append(Post(content=\"Temp content\", subject=\"Temp subject\", likes=likes))\n",
    "        #Make account becomes Verified (20%) or just Normal (80%)    \n",
    "        if(random() < 0.2):\n",
    "            fromDate = datetime(randint(2018, 2024), randint(1, 12), randint(1, 28))\n",
    "            accounts.append(VerifiedAccount(name=name, email=email, country=country, friends=[], posts=posts, fromDate=fromDate))\n",
    "        else:\n",
    "            accounts.append(NormalProduct(name=name, email=email, country=country, friends=[], posts=posts))\n",
    "        \n",
    "\n",
    "    # Make all accounts in the list have friends\n",
    "    for accountIndex in range(len(accounts)):\n",
    "        account = accounts[accountIndex]\n",
    "        numFriends = randint(rangeFriends[0], rangeFriends[1])\n",
    "        currentFriends = 0\n",
    "        while currentFriends < numFriends:\n",
    "            otherAccountIndex = randint(0, len(accounts) - 1)\n",
    "            if(otherAccountIndex != i):\n",
    "                currentFriends += 1\n",
    "                account.friends.append(accounts[otherAccountIndex])\n",
    "\n",
    "    return AccountManager(accounts=accounts)\n",
    "account_manager = generate_fake_data(numAccounts=20, rangePosts=[1, 20], rangeLikes=[0, 100], rangeFriends=[1,5])\n",
    "print(f\"Max Like Post By Friend: {account_manager.accounts[0].getMaxLikePostByFriend()}\")\n",
    "\n",
    "method_1 = '\\n'.join([str(acc) for acc in account_manager.filterAccounts('Canada')])\n",
    "\n",
    "print(f\"\\nFilter Accounts:\\n {method_1}\\n\")\n",
    "print(\"Group Accounts By Post Like:\", end=\"\")\n",
    "account_manager.groupAccountsByPostLike()"
   ]
  },
  {
   "cell_type": "markdown",
   "metadata": {},
   "source": [
    "# Task 2"
   ]
  },
  {
   "cell_type": "markdown",
   "metadata": {},
   "source": [
    "Task 2.1"
   ]
  },
  {
   "cell_type": "code",
   "execution_count": 6,
   "metadata": {},
   "outputs": [
    {
     "data": {
      "text/plain": [
       "array([25, 24, 23, 22, 21, 20, 19, 18, 17, 16, 15, 14, 13, 12, 11, 10])"
      ]
     },
     "execution_count": 6,
     "metadata": {},
     "output_type": "execute_result"
    }
   ],
   "source": [
    "np.arange(10, 26)[::-1]"
   ]
  },
  {
   "cell_type": "markdown",
   "metadata": {},
   "source": [
    "Task 2.2"
   ]
  },
  {
   "cell_type": "code",
   "execution_count": 7,
   "metadata": {},
   "outputs": [
    {
     "name": "stdout",
     "output_type": "stream",
     "text": [
      "Origin array: [1 2 3 4]\n",
      "Repeating 2 times: [1 2 3 4 1 2 3 4]\n",
      "Repeating 3 times: [1 2 3 4 1 2 3 4 1 2 3 4]\n"
     ]
    },
    {
     "data": {
      "text/plain": [
       "[None, None]"
      ]
     },
     "execution_count": 7,
     "metadata": {},
     "output_type": "execute_result"
    }
   ],
   "source": [
    "x = np.arange(1, 5)\n",
    "print(f\"Origin array: {x}\")\n",
    "[print(f\"Repeating {i} times: {np.tile(x, i)}\") for i in range (2, 4)]"
   ]
  },
  {
   "cell_type": "markdown",
   "metadata": {},
   "source": [
    "Task 2.3"
   ]
  },
  {
   "cell_type": "code",
   "execution_count": 8,
   "metadata": {},
   "outputs": [
    {
     "name": "stdout",
     "output_type": "stream",
     "text": [
      "Original array:\n",
      "[[0.23 0.33 0.94 0.02]\n",
      " [0.45 0.51 0.89 0.6 ]\n",
      " [0.13 0.37 0.36 0.74]]\n",
      "Replaced:\n",
      "[[0.23 0.33 0.5  0.02]\n",
      " [0.45 0.5  0.5  0.5 ]\n",
      " [0.13 0.37 0.36 0.5 ]]\n"
     ]
    }
   ],
   "source": [
    "origin_array = np.round(np.random.rand(3,4), 2)\n",
    "print(f\"Original array:\\n{origin_array}\")\n",
    "print(f\"Replaced:\\n{np.where(origin_array > 0.5, 0.5, origin_array)}\")"
   ]
  }
 ],
 "metadata": {
  "kernelspec": {
   "display_name": "Python 3",
   "language": "python",
   "name": "python3"
  },
  "language_info": {
   "codemirror_mode": {
    "name": "ipython",
    "version": 3
   },
   "file_extension": ".py",
   "mimetype": "text/x-python",
   "name": "python",
   "nbconvert_exporter": "python",
   "pygments_lexer": "ipython3",
   "version": "3.11.8"
  }
 },
 "nbformat": 4,
 "nbformat_minor": 2
}
